{
 "cells": [
  {
   "cell_type": "code",
   "execution_count": 1,
   "id": "cfc48a6c",
   "metadata": {
    "_cell_guid": "b1076dfc-b9ad-4769-8c92-a6c4dae69d19",
    "_uuid": "8f2839f25d086af736a60e9eeb907d3b93b6e0e5",
    "execution": {
     "iopub.execute_input": "2025-02-01T20:53:02.201036Z",
     "iopub.status.busy": "2025-02-01T20:53:02.200671Z",
     "iopub.status.idle": "2025-02-01T20:53:05.118016Z",
     "shell.execute_reply": "2025-02-01T20:53:05.116695Z"
    },
    "papermill": {
     "duration": 2.92548,
     "end_time": "2025-02-01T20:53:05.119661",
     "exception": false,
     "start_time": "2025-02-01T20:53:02.194181",
     "status": "completed"
    },
    "tags": []
   },
   "outputs": [
    {
     "name": "stdout",
     "output_type": "stream",
     "text": [
      "/kaggle/input/spaceship-titanic/sample_submission.csv\n",
      "/kaggle/input/spaceship-titanic/train.csv\n",
      "/kaggle/input/spaceship-titanic/test.csv\n"
     ]
    }
   ],
   "source": [
    "# This Python 3 environment comes with many helpful analytics libraries installed\n",
    "# It is defined by the kaggle/python Docker image: https://github.com/kaggle/docker-python\n",
    "# For example, here's several helpful packages to load\n",
    "\n",
    "import pandas as pd \n",
    "import numpy as np \n",
    "import matplotlib.pyplot as plt\n",
    "import seaborn as sns\n",
    "from sklearn.impute import KNNImputer\n",
    "\n",
    "# Input data files are available in the read-only \"../input/\" directory\n",
    "# For example, running this (by clicking run or pressing Shift+Enter) will list all files under the input directory\n",
    "\n",
    "import os\n",
    "for dirname, _, filenames in os.walk('/kaggle/input'):\n",
    "    for filename in filenames:\n",
    "        print(os.path.join(dirname, filename))\n",
    "\n",
    "# You can write up to 20GB to the current directory (/kaggle/working/) that gets preserved as output when you create a version using \"Save & Run All\" \n",
    "# You can also write temporary files to /kaggle/temp/, but they won't be saved outside of the current session"
   ]
  },
  {
   "cell_type": "code",
   "execution_count": 2,
   "id": "aab49bcb",
   "metadata": {
    "execution": {
     "iopub.execute_input": "2025-02-01T20:53:05.130985Z",
     "iopub.status.busy": "2025-02-01T20:53:05.130471Z",
     "iopub.status.idle": "2025-02-01T20:53:05.251941Z",
     "shell.execute_reply": "2025-02-01T20:53:05.250951Z"
    },
    "papermill": {
     "duration": 0.128898,
     "end_time": "2025-02-01T20:53:05.253667",
     "exception": false,
     "start_time": "2025-02-01T20:53:05.124769",
     "status": "completed"
    },
    "tags": []
   },
   "outputs": [
    {
     "data": {
      "text/html": [
       "<div>\n",
       "<style scoped>\n",
       "    .dataframe tbody tr th:only-of-type {\n",
       "        vertical-align: middle;\n",
       "    }\n",
       "\n",
       "    .dataframe tbody tr th {\n",
       "        vertical-align: top;\n",
       "    }\n",
       "\n",
       "    .dataframe thead th {\n",
       "        text-align: right;\n",
       "    }\n",
       "</style>\n",
       "<table border=\"1\" class=\"dataframe\">\n",
       "  <thead>\n",
       "    <tr style=\"text-align: right;\">\n",
       "      <th></th>\n",
       "      <th>HomePlanet</th>\n",
       "      <th>CryoSleep</th>\n",
       "      <th>Cabin</th>\n",
       "      <th>Destination</th>\n",
       "      <th>Age</th>\n",
       "      <th>VIP</th>\n",
       "      <th>RoomService</th>\n",
       "      <th>FoodCourt</th>\n",
       "      <th>ShoppingMall</th>\n",
       "      <th>Spa</th>\n",
       "      <th>VRDeck</th>\n",
       "      <th>Transported</th>\n",
       "    </tr>\n",
       "  </thead>\n",
       "  <tbody>\n",
       "    <tr>\n",
       "      <th>0</th>\n",
       "      <td>Europa</td>\n",
       "      <td>False</td>\n",
       "      <td>B/0/P</td>\n",
       "      <td>TRAPPIST-1e</td>\n",
       "      <td>39.0</td>\n",
       "      <td>False</td>\n",
       "      <td>0.0</td>\n",
       "      <td>0.0</td>\n",
       "      <td>0.0</td>\n",
       "      <td>0.0</td>\n",
       "      <td>0.0</td>\n",
       "      <td>False</td>\n",
       "    </tr>\n",
       "    <tr>\n",
       "      <th>1</th>\n",
       "      <td>Earth</td>\n",
       "      <td>False</td>\n",
       "      <td>F/0/S</td>\n",
       "      <td>TRAPPIST-1e</td>\n",
       "      <td>24.0</td>\n",
       "      <td>False</td>\n",
       "      <td>109.0</td>\n",
       "      <td>9.0</td>\n",
       "      <td>25.0</td>\n",
       "      <td>549.0</td>\n",
       "      <td>44.0</td>\n",
       "      <td>True</td>\n",
       "    </tr>\n",
       "    <tr>\n",
       "      <th>2</th>\n",
       "      <td>Europa</td>\n",
       "      <td>False</td>\n",
       "      <td>A/0/S</td>\n",
       "      <td>TRAPPIST-1e</td>\n",
       "      <td>58.0</td>\n",
       "      <td>True</td>\n",
       "      <td>43.0</td>\n",
       "      <td>3576.0</td>\n",
       "      <td>0.0</td>\n",
       "      <td>6715.0</td>\n",
       "      <td>49.0</td>\n",
       "      <td>False</td>\n",
       "    </tr>\n",
       "    <tr>\n",
       "      <th>3</th>\n",
       "      <td>Europa</td>\n",
       "      <td>False</td>\n",
       "      <td>A/0/S</td>\n",
       "      <td>TRAPPIST-1e</td>\n",
       "      <td>33.0</td>\n",
       "      <td>False</td>\n",
       "      <td>0.0</td>\n",
       "      <td>1283.0</td>\n",
       "      <td>371.0</td>\n",
       "      <td>3329.0</td>\n",
       "      <td>193.0</td>\n",
       "      <td>False</td>\n",
       "    </tr>\n",
       "    <tr>\n",
       "      <th>4</th>\n",
       "      <td>Earth</td>\n",
       "      <td>False</td>\n",
       "      <td>F/1/S</td>\n",
       "      <td>TRAPPIST-1e</td>\n",
       "      <td>16.0</td>\n",
       "      <td>False</td>\n",
       "      <td>303.0</td>\n",
       "      <td>70.0</td>\n",
       "      <td>151.0</td>\n",
       "      <td>565.0</td>\n",
       "      <td>2.0</td>\n",
       "      <td>True</td>\n",
       "    </tr>\n",
       "  </tbody>\n",
       "</table>\n",
       "</div>"
      ],
      "text/plain": [
       "  HomePlanet CryoSleep  Cabin  Destination   Age    VIP  RoomService  \\\n",
       "0     Europa     False  B/0/P  TRAPPIST-1e  39.0  False          0.0   \n",
       "1      Earth     False  F/0/S  TRAPPIST-1e  24.0  False        109.0   \n",
       "2     Europa     False  A/0/S  TRAPPIST-1e  58.0   True         43.0   \n",
       "3     Europa     False  A/0/S  TRAPPIST-1e  33.0  False          0.0   \n",
       "4      Earth     False  F/1/S  TRAPPIST-1e  16.0  False        303.0   \n",
       "\n",
       "   FoodCourt  ShoppingMall     Spa  VRDeck  Transported  \n",
       "0        0.0           0.0     0.0     0.0        False  \n",
       "1        9.0          25.0   549.0    44.0         True  \n",
       "2     3576.0           0.0  6715.0    49.0        False  \n",
       "3     1283.0         371.0  3329.0   193.0        False  \n",
       "4       70.0         151.0   565.0     2.0         True  "
      ]
     },
     "execution_count": 2,
     "metadata": {},
     "output_type": "execute_result"
    }
   ],
   "source": [
    "import pandas as pd\n",
    "\n",
    "df_train = pd.read_csv(\"/kaggle/input/spaceship-titanic/train.csv\")\n",
    "df_test = pd.read_csv(\"/kaggle/input/spaceship-titanic/test.csv\")\n",
    "\n",
    "df_test['Transported'] = False\n",
    "df = pd.concat([df_train, df_test], sort = False)\n",
    "df.drop(['Name', 'PassengerId'], axis = 1, inplace = True)\n",
    "df.head()\n"
   ]
  },
  {
   "cell_type": "code",
   "execution_count": 3,
   "id": "0adc49c4",
   "metadata": {
    "execution": {
     "iopub.execute_input": "2025-02-01T20:53:05.264787Z",
     "iopub.status.busy": "2025-02-01T20:53:05.264421Z",
     "iopub.status.idle": "2025-02-01T20:53:05.270694Z",
     "shell.execute_reply": "2025-02-01T20:53:05.269741Z"
    },
    "papermill": {
     "duration": 0.013575,
     "end_time": "2025-02-01T20:53:05.272321",
     "exception": false,
     "start_time": "2025-02-01T20:53:05.258746",
     "status": "completed"
    },
    "tags": []
   },
   "outputs": [
    {
     "data": {
      "text/plain": [
       "True"
      ]
     },
     "execution_count": 3,
     "metadata": {},
     "output_type": "execute_result"
    }
   ],
   "source": [
    "df.shape[0] == df_train.shape[0] + df_test.shape[0]"
   ]
  },
  {
   "cell_type": "code",
   "execution_count": 4,
   "id": "b10d66b0",
   "metadata": {
    "execution": {
     "iopub.execute_input": "2025-02-01T20:53:05.284006Z",
     "iopub.status.busy": "2025-02-01T20:53:05.283619Z",
     "iopub.status.idle": "2025-02-01T20:53:05.295872Z",
     "shell.execute_reply": "2025-02-01T20:53:05.294951Z"
    },
    "papermill": {
     "duration": 0.019857,
     "end_time": "2025-02-01T20:53:05.297529",
     "exception": false,
     "start_time": "2025-02-01T20:53:05.277672",
     "status": "completed"
    },
    "tags": []
   },
   "outputs": [
    {
     "data": {
      "text/plain": [
       "HomePlanet      288\n",
       "CryoSleep       310\n",
       "Cabin           299\n",
       "Destination     274\n",
       "Age             270\n",
       "VIP             296\n",
       "RoomService     263\n",
       "FoodCourt       289\n",
       "ShoppingMall    306\n",
       "Spa             284\n",
       "VRDeck          268\n",
       "Transported       0\n",
       "dtype: int64"
      ]
     },
     "execution_count": 4,
     "metadata": {},
     "output_type": "execute_result"
    }
   ],
   "source": [
    "df.isna().sum()"
   ]
  },
  {
   "cell_type": "code",
   "execution_count": 5,
   "id": "4bcf507d",
   "metadata": {
    "execution": {
     "iopub.execute_input": "2025-02-01T20:53:05.308980Z",
     "iopub.status.busy": "2025-02-01T20:53:05.308608Z",
     "iopub.status.idle": "2025-02-01T20:53:05.338765Z",
     "shell.execute_reply": "2025-02-01T20:53:05.337757Z"
    },
    "papermill": {
     "duration": 0.037934,
     "end_time": "2025-02-01T20:53:05.340693",
     "exception": false,
     "start_time": "2025-02-01T20:53:05.302759",
     "status": "completed"
    },
    "tags": []
   },
   "outputs": [],
   "source": [
    "df[['Deck', 'Num', 'Side']] = df['Cabin'].str.split('/', expand = True)\n",
    "df = df.drop(columns = ['Cabin'])\n",
    "df['Deck'] = df['Deck'].fillna('U')\n",
    "df['Num'] = df['Num'].fillna(-1)\n",
    "df['Side'] = df['Side'].fillna('U')"
   ]
  },
  {
   "cell_type": "code",
   "execution_count": 6,
   "id": "f14fee9a",
   "metadata": {
    "execution": {
     "iopub.execute_input": "2025-02-01T20:53:05.352478Z",
     "iopub.status.busy": "2025-02-01T20:53:05.352101Z",
     "iopub.status.idle": "2025-02-01T20:53:05.363291Z",
     "shell.execute_reply": "2025-02-01T20:53:05.362330Z"
    },
    "papermill": {
     "duration": 0.018676,
     "end_time": "2025-02-01T20:53:05.364757",
     "exception": false,
     "start_time": "2025-02-01T20:53:05.346081",
     "status": "completed"
    },
    "tags": []
   },
   "outputs": [
    {
     "data": {
      "text/plain": [
       "Destination\n",
       "TRAPPIST-1e      8871\n",
       "55 Cancri e      2641\n",
       "PSO J318.5-22    1184\n",
       "Name: count, dtype: int64"
      ]
     },
     "execution_count": 6,
     "metadata": {},
     "output_type": "execute_result"
    }
   ],
   "source": [
    "df['Destination'].value_counts()"
   ]
  },
  {
   "cell_type": "code",
   "execution_count": 7,
   "id": "07b50b11",
   "metadata": {
    "execution": {
     "iopub.execute_input": "2025-02-01T20:53:05.376686Z",
     "iopub.status.busy": "2025-02-01T20:53:05.376315Z",
     "iopub.status.idle": "2025-02-01T20:53:05.385215Z",
     "shell.execute_reply": "2025-02-01T20:53:05.384230Z"
    },
    "papermill": {
     "duration": 0.01656,
     "end_time": "2025-02-01T20:53:05.386839",
     "exception": false,
     "start_time": "2025-02-01T20:53:05.370279",
     "status": "completed"
    },
    "tags": []
   },
   "outputs": [],
   "source": [
    "df['Deck'] = df['Deck'].map({'G' : 0, 'F' : 1, 'E' : 2, 'D' : 3, 'C' : 4, 'B' : 5, 'A' : 6, 'U' : 7, 'T' : 8})\n",
    "df['Side'] = df['Side'].map({'U' : -1, 'P' : 1, 'S' : 2})"
   ]
  },
  {
   "cell_type": "code",
   "execution_count": 8,
   "id": "709b057e",
   "metadata": {
    "execution": {
     "iopub.execute_input": "2025-02-01T20:53:05.398858Z",
     "iopub.status.busy": "2025-02-01T20:53:05.398510Z",
     "iopub.status.idle": "2025-02-01T20:53:07.205867Z",
     "shell.execute_reply": "2025-02-01T20:53:07.204770Z"
    },
    "papermill": {
     "duration": 1.815693,
     "end_time": "2025-02-01T20:53:07.207896",
     "exception": false,
     "start_time": "2025-02-01T20:53:05.392203",
     "status": "completed"
    },
    "tags": []
   },
   "outputs": [],
   "source": [
    "impute_lis = ['Age', 'VIP', 'Num', 'CryoSleep', 'Side', 'Deck', 'RoomService', 'FoodCourt', 'ShoppingMall', 'Spa', 'VRDeck']\n",
    "rest = list(set(df.columns) - set(impute_lis))\n",
    "df_rest = df[rest]\n",
    "imp = KNNImputer()\n",
    "df_imputed = imp.fit_transform(df[impute_lis])\n",
    "df_imputed = pd.DataFrame(df_imputed, columns = impute_lis)\n",
    "df = pd.concat([df_rest.reset_index(drop = True), df_imputed.reset_index(drop = True)], axis = 1)"
   ]
  },
  {
   "cell_type": "code",
   "execution_count": 9,
   "id": "5dc62df7",
   "metadata": {
    "execution": {
     "iopub.execute_input": "2025-02-01T20:53:07.220747Z",
     "iopub.status.busy": "2025-02-01T20:53:07.220416Z",
     "iopub.status.idle": "2025-02-01T20:53:07.237178Z",
     "shell.execute_reply": "2025-02-01T20:53:07.235935Z"
    },
    "papermill": {
     "duration": 0.025787,
     "end_time": "2025-02-01T20:53:07.239508",
     "exception": false,
     "start_time": "2025-02-01T20:53:07.213721",
     "status": "completed"
    },
    "tags": []
   },
   "outputs": [],
   "source": [
    "df['HomePlanet'] = df['HomePlanet'].fillna('U')\n",
    "df['Destination'] = df['Destination'].fillna('U')\n",
    "category_colls = ['HomePlanet', 'Destination']\n",
    "\n",
    "for col in category_colls:\n",
    "    df = pd.concat([df, pd.get_dummies(df[col], prefix = col)], axis = 1)"
   ]
  },
  {
   "cell_type": "code",
   "execution_count": 10,
   "id": "a3230593",
   "metadata": {
    "execution": {
     "iopub.execute_input": "2025-02-01T20:53:07.260059Z",
     "iopub.status.busy": "2025-02-01T20:53:07.259644Z",
     "iopub.status.idle": "2025-02-01T20:53:07.265392Z",
     "shell.execute_reply": "2025-02-01T20:53:07.264364Z"
    },
    "papermill": {
     "duration": 0.017708,
     "end_time": "2025-02-01T20:53:07.267289",
     "exception": false,
     "start_time": "2025-02-01T20:53:07.249581",
     "status": "completed"
    },
    "tags": []
   },
   "outputs": [],
   "source": [
    "df = df.drop(columns = category_colls)"
   ]
  },
  {
   "cell_type": "code",
   "execution_count": 11,
   "id": "f06448f9",
   "metadata": {
    "execution": {
     "iopub.execute_input": "2025-02-01T20:53:07.284639Z",
     "iopub.status.busy": "2025-02-01T20:53:07.284273Z",
     "iopub.status.idle": "2025-02-01T20:53:07.307207Z",
     "shell.execute_reply": "2025-02-01T20:53:07.306178Z"
    },
    "papermill": {
     "duration": 0.032323,
     "end_time": "2025-02-01T20:53:07.309164",
     "exception": false,
     "start_time": "2025-02-01T20:53:07.276841",
     "status": "completed"
    },
    "tags": []
   },
   "outputs": [
    {
     "data": {
      "text/html": [
       "<div>\n",
       "<style scoped>\n",
       "    .dataframe tbody tr th:only-of-type {\n",
       "        vertical-align: middle;\n",
       "    }\n",
       "\n",
       "    .dataframe tbody tr th {\n",
       "        vertical-align: top;\n",
       "    }\n",
       "\n",
       "    .dataframe thead th {\n",
       "        text-align: right;\n",
       "    }\n",
       "</style>\n",
       "<table border=\"1\" class=\"dataframe\">\n",
       "  <thead>\n",
       "    <tr style=\"text-align: right;\">\n",
       "      <th></th>\n",
       "      <th>Transported</th>\n",
       "      <th>Age</th>\n",
       "      <th>VIP</th>\n",
       "      <th>Num</th>\n",
       "      <th>CryoSleep</th>\n",
       "      <th>Side</th>\n",
       "      <th>Deck</th>\n",
       "      <th>RoomService</th>\n",
       "      <th>FoodCourt</th>\n",
       "      <th>ShoppingMall</th>\n",
       "      <th>Spa</th>\n",
       "      <th>VRDeck</th>\n",
       "      <th>HomePlanet_Earth</th>\n",
       "      <th>HomePlanet_Europa</th>\n",
       "      <th>HomePlanet_Mars</th>\n",
       "      <th>HomePlanet_U</th>\n",
       "      <th>Destination_55 Cancri e</th>\n",
       "      <th>Destination_PSO J318.5-22</th>\n",
       "      <th>Destination_TRAPPIST-1e</th>\n",
       "      <th>Destination_U</th>\n",
       "    </tr>\n",
       "  </thead>\n",
       "  <tbody>\n",
       "    <tr>\n",
       "      <th>0</th>\n",
       "      <td>False</td>\n",
       "      <td>39.0</td>\n",
       "      <td>0.0</td>\n",
       "      <td>0.0</td>\n",
       "      <td>0.0</td>\n",
       "      <td>1.0</td>\n",
       "      <td>5.0</td>\n",
       "      <td>0.0</td>\n",
       "      <td>0.0</td>\n",
       "      <td>0.0</td>\n",
       "      <td>0.0</td>\n",
       "      <td>0.0</td>\n",
       "      <td>False</td>\n",
       "      <td>True</td>\n",
       "      <td>False</td>\n",
       "      <td>False</td>\n",
       "      <td>False</td>\n",
       "      <td>False</td>\n",
       "      <td>True</td>\n",
       "      <td>False</td>\n",
       "    </tr>\n",
       "    <tr>\n",
       "      <th>1</th>\n",
       "      <td>True</td>\n",
       "      <td>24.0</td>\n",
       "      <td>0.0</td>\n",
       "      <td>0.0</td>\n",
       "      <td>0.0</td>\n",
       "      <td>2.0</td>\n",
       "      <td>1.0</td>\n",
       "      <td>109.0</td>\n",
       "      <td>9.0</td>\n",
       "      <td>25.0</td>\n",
       "      <td>549.0</td>\n",
       "      <td>44.0</td>\n",
       "      <td>True</td>\n",
       "      <td>False</td>\n",
       "      <td>False</td>\n",
       "      <td>False</td>\n",
       "      <td>False</td>\n",
       "      <td>False</td>\n",
       "      <td>True</td>\n",
       "      <td>False</td>\n",
       "    </tr>\n",
       "    <tr>\n",
       "      <th>2</th>\n",
       "      <td>False</td>\n",
       "      <td>58.0</td>\n",
       "      <td>1.0</td>\n",
       "      <td>0.0</td>\n",
       "      <td>0.0</td>\n",
       "      <td>2.0</td>\n",
       "      <td>6.0</td>\n",
       "      <td>43.0</td>\n",
       "      <td>3576.0</td>\n",
       "      <td>0.0</td>\n",
       "      <td>6715.0</td>\n",
       "      <td>49.0</td>\n",
       "      <td>False</td>\n",
       "      <td>True</td>\n",
       "      <td>False</td>\n",
       "      <td>False</td>\n",
       "      <td>False</td>\n",
       "      <td>False</td>\n",
       "      <td>True</td>\n",
       "      <td>False</td>\n",
       "    </tr>\n",
       "    <tr>\n",
       "      <th>3</th>\n",
       "      <td>False</td>\n",
       "      <td>33.0</td>\n",
       "      <td>0.0</td>\n",
       "      <td>0.0</td>\n",
       "      <td>0.0</td>\n",
       "      <td>2.0</td>\n",
       "      <td>6.0</td>\n",
       "      <td>0.0</td>\n",
       "      <td>1283.0</td>\n",
       "      <td>371.0</td>\n",
       "      <td>3329.0</td>\n",
       "      <td>193.0</td>\n",
       "      <td>False</td>\n",
       "      <td>True</td>\n",
       "      <td>False</td>\n",
       "      <td>False</td>\n",
       "      <td>False</td>\n",
       "      <td>False</td>\n",
       "      <td>True</td>\n",
       "      <td>False</td>\n",
       "    </tr>\n",
       "    <tr>\n",
       "      <th>4</th>\n",
       "      <td>True</td>\n",
       "      <td>16.0</td>\n",
       "      <td>0.0</td>\n",
       "      <td>1.0</td>\n",
       "      <td>0.0</td>\n",
       "      <td>2.0</td>\n",
       "      <td>1.0</td>\n",
       "      <td>303.0</td>\n",
       "      <td>70.0</td>\n",
       "      <td>151.0</td>\n",
       "      <td>565.0</td>\n",
       "      <td>2.0</td>\n",
       "      <td>True</td>\n",
       "      <td>False</td>\n",
       "      <td>False</td>\n",
       "      <td>False</td>\n",
       "      <td>False</td>\n",
       "      <td>False</td>\n",
       "      <td>True</td>\n",
       "      <td>False</td>\n",
       "    </tr>\n",
       "  </tbody>\n",
       "</table>\n",
       "</div>"
      ],
      "text/plain": [
       "   Transported   Age  VIP  Num  CryoSleep  Side  Deck  RoomService  FoodCourt  \\\n",
       "0        False  39.0  0.0  0.0        0.0   1.0   5.0          0.0        0.0   \n",
       "1         True  24.0  0.0  0.0        0.0   2.0   1.0        109.0        9.0   \n",
       "2        False  58.0  1.0  0.0        0.0   2.0   6.0         43.0     3576.0   \n",
       "3        False  33.0  0.0  0.0        0.0   2.0   6.0          0.0     1283.0   \n",
       "4         True  16.0  0.0  1.0        0.0   2.0   1.0        303.0       70.0   \n",
       "\n",
       "   ShoppingMall     Spa  VRDeck  HomePlanet_Earth  HomePlanet_Europa  \\\n",
       "0           0.0     0.0     0.0             False               True   \n",
       "1          25.0   549.0    44.0              True              False   \n",
       "2           0.0  6715.0    49.0             False               True   \n",
       "3         371.0  3329.0   193.0             False               True   \n",
       "4         151.0   565.0     2.0              True              False   \n",
       "\n",
       "   HomePlanet_Mars  HomePlanet_U  Destination_55 Cancri e  \\\n",
       "0            False         False                    False   \n",
       "1            False         False                    False   \n",
       "2            False         False                    False   \n",
       "3            False         False                    False   \n",
       "4            False         False                    False   \n",
       "\n",
       "   Destination_PSO J318.5-22  Destination_TRAPPIST-1e  Destination_U  \n",
       "0                      False                     True          False  \n",
       "1                      False                     True          False  \n",
       "2                      False                     True          False  \n",
       "3                      False                     True          False  \n",
       "4                      False                     True          False  "
      ]
     },
     "execution_count": 11,
     "metadata": {},
     "output_type": "execute_result"
    }
   ],
   "source": [
    "df.head()"
   ]
  },
  {
   "cell_type": "code",
   "execution_count": 12,
   "id": "410270ca",
   "metadata": {
    "execution": {
     "iopub.execute_input": "2025-02-01T20:53:07.328297Z",
     "iopub.status.busy": "2025-02-01T20:53:07.327877Z",
     "iopub.status.idle": "2025-02-01T20:53:07.347048Z",
     "shell.execute_reply": "2025-02-01T20:53:07.346027Z"
    },
    "papermill": {
     "duration": 0.029311,
     "end_time": "2025-02-01T20:53:07.349330",
     "exception": false,
     "start_time": "2025-02-01T20:53:07.320019",
     "status": "completed"
    },
    "tags": []
   },
   "outputs": [],
   "source": [
    "#feature engineering\n",
    "bill_cols = ['RoomService', 'FoodCourt', 'ShoppingMall', 'Spa', 'VRDeck']\n",
    "df['amt_spent'] = df[bill_cols].sum(axis = 1)\n",
    "df['std_amt_spent'] = df[bill_cols].std(axis = 1)\n",
    "df['mean_amt_spent'] = df[bill_cols].mean(axis = 1)\n",
    "\n",
    "df['3_high_cols'] = df['CryoSleep'] + df['HomePlanet_Europa'] + df['Destination_55 Cancri e']\n",
    "df['3_low_cols'] = df['mean_amt_spent'] + df['amt_spent'] + df['HomePlanet_Earth']"
   ]
  },
  {
   "cell_type": "code",
   "execution_count": 13,
   "id": "896fb75b",
   "metadata": {
    "execution": {
     "iopub.execute_input": "2025-02-01T20:53:07.371537Z",
     "iopub.status.busy": "2025-02-01T20:53:07.371041Z",
     "iopub.status.idle": "2025-02-01T20:53:07.423527Z",
     "shell.execute_reply": "2025-02-01T20:53:07.421105Z"
    },
    "papermill": {
     "duration": 0.067869,
     "end_time": "2025-02-01T20:53:07.427772",
     "exception": false,
     "start_time": "2025-02-01T20:53:07.359903",
     "status": "completed"
    },
    "tags": []
   },
   "outputs": [
    {
     "data": {
      "text/plain": [
       "Transported                  1.000000\n",
       "CryoSleep                    0.324373\n",
       "3_high_cols                  0.284177\n",
       "HomePlanet_Europa            0.131977\n",
       "Destination_55 Cancri e      0.083625\n",
       "Deck                         0.077959\n",
       "Side                         0.059872\n",
       "FoodCourt                    0.034746\n",
       "HomePlanet_U                 0.006403\n",
       "HomePlanet_Mars              0.005643\n",
       "ShoppingMall                 0.004154\n",
       "Destination_PSO J318.5-22    0.000760\n",
       "Destination_U               -0.000554\n",
       "VIP                         -0.018720\n",
       "Num                         -0.035240\n",
       "Age                         -0.050520\n",
       "Destination_TRAPPIST-1e     -0.072731\n",
       "HomePlanet_Earth            -0.119644\n",
       "std_amt_spent               -0.121173\n",
       "mean_amt_spent              -0.140452\n",
       "amt_spent                   -0.140452\n",
       "3_low_cols                  -0.140476\n",
       "VRDeck                      -0.142783\n",
       "Spa                         -0.154832\n",
       "RoomService                 -0.174781\n",
       "Name: Transported, dtype: float64"
      ]
     },
     "execution_count": 13,
     "metadata": {},
     "output_type": "execute_result"
    }
   ],
   "source": [
    "df.corr()['Transported'].sort_values(ascending = False)"
   ]
  },
  {
   "cell_type": "code",
   "execution_count": 14,
   "id": "77c990de",
   "metadata": {
    "execution": {
     "iopub.execute_input": "2025-02-01T20:53:07.451235Z",
     "iopub.status.busy": "2025-02-01T20:53:07.450755Z",
     "iopub.status.idle": "2025-02-01T20:53:07.460687Z",
     "shell.execute_reply": "2025-02-01T20:53:07.459642Z"
    },
    "papermill": {
     "duration": 0.022107,
     "end_time": "2025-02-01T20:53:07.462406",
     "exception": false,
     "start_time": "2025-02-01T20:53:07.440299",
     "status": "completed"
    },
    "tags": []
   },
   "outputs": [
    {
     "data": {
      "text/plain": [
       "((8693, 25), (4277, 24))"
      ]
     },
     "execution_count": 14,
     "metadata": {},
     "output_type": "execute_result"
    }
   ],
   "source": [
    "df_train, df_test = df[:df_train.shape[0]], df[df_train.shape[0]:]\n",
    "df_test = df_test.drop(columns = 'Transported')\n",
    "df_train.shape, df_test.shape"
   ]
  },
  {
   "cell_type": "code",
   "execution_count": 15,
   "id": "b55498d4",
   "metadata": {
    "execution": {
     "iopub.execute_input": "2025-02-01T20:53:07.481862Z",
     "iopub.status.busy": "2025-02-01T20:53:07.481523Z",
     "iopub.status.idle": "2025-02-01T20:53:10.644648Z",
     "shell.execute_reply": "2025-02-01T20:53:10.643503Z"
    },
    "papermill": {
     "duration": 3.174539,
     "end_time": "2025-02-01T20:53:10.646999",
     "exception": false,
     "start_time": "2025-02-01T20:53:07.472460",
     "status": "completed"
    },
    "tags": []
   },
   "outputs": [],
   "source": [
    "from xgboost import XGBClassifier\n",
    "from sklearn.tree import DecisionTreeClassifier\n",
    "from sklearn.ensemble import RandomForestClassifier\n",
    "from sklearn.linear_model import LogisticRegression\n",
    "from lightgbm import LGBMClassifier\n",
    "from sklearn.model_selection import train_test_split\n",
    "from sklearn.metrics import accuracy_score"
   ]
  },
  {
   "cell_type": "code",
   "execution_count": 16,
   "id": "06717514",
   "metadata": {
    "execution": {
     "iopub.execute_input": "2025-02-01T20:53:10.659971Z",
     "iopub.status.busy": "2025-02-01T20:53:10.659297Z",
     "iopub.status.idle": "2025-02-01T20:53:10.669977Z",
     "shell.execute_reply": "2025-02-01T20:53:10.668757Z"
    },
    "papermill": {
     "duration": 0.018988,
     "end_time": "2025-02-01T20:53:10.671779",
     "exception": false,
     "start_time": "2025-02-01T20:53:10.652791",
     "status": "completed"
    },
    "tags": []
   },
   "outputs": [],
   "source": [
    "X = df_train.drop(columns = 'Transported')\n",
    "y = df_train['Transported']\n",
    "\n",
    "X_train, X_test, y_train, y_test = train_test_split(X, y, test_size = 0.2, random_state = 42)\n",
    "\n",
    "model_1 = LogisticRegression()\n",
    "model_2 = DecisionTreeClassifier()\n",
    "model_3 = RandomForestClassifier()\n",
    "model_4 = XGBClassifier()\n",
    "model_5 = LGBMClassifier()"
   ]
  },
  {
   "cell_type": "code",
   "execution_count": 17,
   "id": "ddf731b6",
   "metadata": {
    "execution": {
     "iopub.execute_input": "2025-02-01T20:53:10.684554Z",
     "iopub.status.busy": "2025-02-01T20:53:10.684190Z",
     "iopub.status.idle": "2025-02-01T20:53:10.785053Z",
     "shell.execute_reply": "2025-02-01T20:53:10.784031Z"
    },
    "papermill": {
     "duration": 0.10897,
     "end_time": "2025-02-01T20:53:10.786630",
     "exception": false,
     "start_time": "2025-02-01T20:53:10.677660",
     "status": "completed"
    },
    "tags": []
   },
   "outputs": [
    {
     "name": "stderr",
     "output_type": "stream",
     "text": [
      "/usr/local/lib/python3.10/dist-packages/sklearn/linear_model/_logistic.py:458: ConvergenceWarning: lbfgs failed to converge (status=1):\n",
      "STOP: TOTAL NO. of ITERATIONS REACHED LIMIT.\n",
      "\n",
      "Increase the number of iterations (max_iter) or scale the data as shown in:\n",
      "    https://scikit-learn.org/stable/modules/preprocessing.html\n",
      "Please also refer to the documentation for alternative solver options:\n",
      "    https://scikit-learn.org/stable/modules/linear_model.html#logistic-regression\n",
      "  n_iter_i = _check_optimize_result(\n"
     ]
    },
    {
     "data": {
      "text/plain": [
       "0.7705577918343876"
      ]
     },
     "execution_count": 17,
     "metadata": {},
     "output_type": "execute_result"
    }
   ],
   "source": [
    "model_1.fit(X_train, y_train)\n",
    "pred = model_1.predict(X_test)\n",
    "accuracy_score(y_test, pred)"
   ]
  },
  {
   "cell_type": "code",
   "execution_count": 18,
   "id": "7d1b7983",
   "metadata": {
    "execution": {
     "iopub.execute_input": "2025-02-01T20:53:10.799593Z",
     "iopub.status.busy": "2025-02-01T20:53:10.799231Z",
     "iopub.status.idle": "2025-02-01T20:53:10.875228Z",
     "shell.execute_reply": "2025-02-01T20:53:10.874294Z"
    },
    "papermill": {
     "duration": 0.084339,
     "end_time": "2025-02-01T20:53:10.876799",
     "exception": false,
     "start_time": "2025-02-01T20:53:10.792460",
     "status": "completed"
    },
    "tags": []
   },
   "outputs": [
    {
     "data": {
      "text/plain": [
       "0.7423806785508913"
      ]
     },
     "execution_count": 18,
     "metadata": {},
     "output_type": "execute_result"
    }
   ],
   "source": [
    "model_2.fit(X_train, y_train)\n",
    "pred = model_2.predict(X_test)\n",
    "accuracy_score(y_test, pred)"
   ]
  },
  {
   "cell_type": "code",
   "execution_count": 19,
   "id": "fc54f05e",
   "metadata": {
    "execution": {
     "iopub.execute_input": "2025-02-01T20:53:10.890150Z",
     "iopub.status.busy": "2025-02-01T20:53:10.889791Z",
     "iopub.status.idle": "2025-02-01T20:53:12.029312Z",
     "shell.execute_reply": "2025-02-01T20:53:12.028220Z"
    },
    "papermill": {
     "duration": 1.147921,
     "end_time": "2025-02-01T20:53:12.030987",
     "exception": false,
     "start_time": "2025-02-01T20:53:10.883066",
     "status": "completed"
    },
    "tags": []
   },
   "outputs": [
    {
     "data": {
      "text/plain": [
       "0.7889591719378953"
      ]
     },
     "execution_count": 19,
     "metadata": {},
     "output_type": "execute_result"
    }
   ],
   "source": [
    "model_3.fit(X_train, y_train)\n",
    "pred = model_3.predict(X_test)\n",
    "accuracy_score(y_test, pred)"
   ]
  },
  {
   "cell_type": "code",
   "execution_count": 20,
   "id": "cd446725",
   "metadata": {
    "execution": {
     "iopub.execute_input": "2025-02-01T20:53:12.044433Z",
     "iopub.status.busy": "2025-02-01T20:53:12.044113Z",
     "iopub.status.idle": "2025-02-01T20:53:12.305010Z",
     "shell.execute_reply": "2025-02-01T20:53:12.302948Z"
    },
    "papermill": {
     "duration": 0.269904,
     "end_time": "2025-02-01T20:53:12.307117",
     "exception": false,
     "start_time": "2025-02-01T20:53:12.037213",
     "status": "completed"
    },
    "tags": []
   },
   "outputs": [
    {
     "data": {
      "text/plain": [
       "0.7941345600920069"
      ]
     },
     "execution_count": 20,
     "metadata": {},
     "output_type": "execute_result"
    }
   ],
   "source": [
    "model_4.fit(X_train, y_train)  \n",
    "pred = model_4.predict(X_test)\n",
    "accuracy_score(y_test, pred)"
   ]
  },
  {
   "cell_type": "code",
   "execution_count": 21,
   "id": "455da0e8",
   "metadata": {
    "execution": {
     "iopub.execute_input": "2025-02-01T20:53:12.325857Z",
     "iopub.status.busy": "2025-02-01T20:53:12.325247Z",
     "iopub.status.idle": "2025-02-01T20:53:12.561189Z",
     "shell.execute_reply": "2025-02-01T20:53:12.559973Z"
    },
    "papermill": {
     "duration": 0.245197,
     "end_time": "2025-02-01T20:53:12.562769",
     "exception": false,
     "start_time": "2025-02-01T20:53:12.317572",
     "status": "completed"
    },
    "tags": []
   },
   "outputs": [
    {
     "name": "stdout",
     "output_type": "stream",
     "text": [
      "[LightGBM] [Warning] Found whitespace in feature_names, replace with underlines\n",
      "[LightGBM] [Info] Number of positive: 3500, number of negative: 3454\n",
      "[LightGBM] [Info] Auto-choosing row-wise multi-threading, the overhead of testing was 0.004079 seconds.\n",
      "You can set `force_row_wise=true` to remove the overhead.\n",
      "And if memory is not enough, you can set `force_col_wise=true`.\n",
      "[LightGBM] [Info] Total Bins 2703\n",
      "[LightGBM] [Info] Number of data points in the train set: 6954, number of used features: 24\n",
      "[LightGBM] [Info] [binary:BoostFromScore]: pavg=0.503307 -> initscore=0.013230\n",
      "[LightGBM] [Info] Start training from score 0.013230\n"
     ]
    },
    {
     "data": {
      "text/plain": [
       "0.79700977573318"
      ]
     },
     "execution_count": 21,
     "metadata": {},
     "output_type": "execute_result"
    }
   ],
   "source": [
    "model_5.fit(X_train, y_train)\n",
    "pred = model_5.predict(X_test)\n",
    "accuracy_score(y_test, pred)"
   ]
  },
  {
   "cell_type": "code",
   "execution_count": 22,
   "id": "90d7677c",
   "metadata": {
    "execution": {
     "iopub.execute_input": "2025-02-01T20:53:12.576603Z",
     "iopub.status.busy": "2025-02-01T20:53:12.576251Z",
     "iopub.status.idle": "2025-02-01T20:53:12.621533Z",
     "shell.execute_reply": "2025-02-01T20:53:12.620668Z"
    },
    "papermill": {
     "duration": 0.054419,
     "end_time": "2025-02-01T20:53:12.623485",
     "exception": false,
     "start_time": "2025-02-01T20:53:12.569066",
     "status": "completed"
    },
    "tags": []
   },
   "outputs": [],
   "source": [
    "df_dummy = pd.read_csv(\"/kaggle/input/spaceship-titanic/test.csv\")\n",
    "pred = model_5.predict(df_test)\n",
    "\n",
    "final = pd.DataFrame()\n",
    "final['PassengerId'] = df_dummy['PassengerId']\n",
    "final['Transported'] = pred\n",
    "\n",
    "final.to_csv('submission.csv', index = False)"
   ]
  }
 ],
 "metadata": {
  "kaggle": {
   "accelerator": "none",
   "dataSources": [
    {
     "databundleVersionId": 3220602,
     "sourceId": 34377,
     "sourceType": "competition"
    }
   ],
   "dockerImageVersionId": 30839,
   "isGpuEnabled": false,
   "isInternetEnabled": true,
   "language": "python",
   "sourceType": "notebook"
  },
  "kernelspec": {
   "display_name": "Python 3",
   "language": "python",
   "name": "python3"
  },
  "language_info": {
   "codemirror_mode": {
    "name": "ipython",
    "version": 3
   },
   "file_extension": ".py",
   "mimetype": "text/x-python",
   "name": "python",
   "nbconvert_exporter": "python",
   "pygments_lexer": "ipython3",
   "version": "3.10.12"
  },
  "papermill": {
   "default_parameters": {},
   "duration": 14.071496,
   "end_time": "2025-02-01T20:53:13.550647",
   "environment_variables": {},
   "exception": null,
   "input_path": "__notebook__.ipynb",
   "output_path": "__notebook__.ipynb",
   "parameters": {},
   "start_time": "2025-02-01T20:52:59.479151",
   "version": "2.6.0"
  }
 },
 "nbformat": 4,
 "nbformat_minor": 5
}
